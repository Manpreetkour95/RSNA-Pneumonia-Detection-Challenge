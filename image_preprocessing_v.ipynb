{
 "cells": [
  {
   "cell_type": "code",
   "execution_count": null,
   "id": "af774780",
   "metadata": {},
   "outputs": [],
   "source": [
    "\n",
    "import cv2\n",
    "import numpy as np\n",
    "import os \n",
    "import glob \n",
    "from scipy import ndimage\n",
    "import random\n",
    "img_dir = r'C:\\Users\\vikra\\OneDrive\\Documents\\Startup work\\dataset preparation\\images\\train\\New folder (2)' # Enter Directory of all images  \n",
    "data_path = os.path.join(img_dir,'*g') \n",
    "files = glob.glob(data_path) \n",
    "data = [] \n",
    "\n",
    "n=1\n",
    "for f1 in files: \n",
    "    n=n+1\n",
    "    f1 = cv2.imread(f1)\n",
    "    height, width = f1.shape[:2]\n",
    "    res = cv2.resize(f1,(1*width, 2*height), interpolation = cv2.INTER_LINEAR) #resizing\n",
    "    cv2.imwrite('res' + str(n) + '.jpg', f1)\n",
    "    \n",
    "    grey = cv2.cvtColor(img, cv2.COLOR_BGR2GRAY)                              #greying\n",
    "    cv2.imwrite('grey'+str(n)+'.jpg', grey)\n",
    "    \n",
    "    for gamma in [0.1, 0.5, 1.2, 2.2]:                                         #brighness change      \n",
    "    # Apply gamma correction.\n",
    "        gamma_corrected = np.array(255*(f1 / 255) ** gamma, dtype = 'uint8')\n",
    "    # Save edited images.\n",
    "        cv2.imwrite('brig'+str(gamma)+str(n)+'.jpg', gamma_corrected)\n",
    "    \n",
    "                                                                               #rotation\n",
    "    for r in [5, -5, 40, -40]:\n",
    "        rotated = ndimage.rotate(f1, r) \n",
    "        cv2.imwrite('rot'+str(r)+str(n)+'.jpg', rotated)\n",
    "    \n",
    "    \n",
    "    num_rows, num_cols = img.shape[:2]                                           #translation\n",
    "\n",
    "    translation_matrix = np.float32([ [1,0,70], [0,1,110] ])\n",
    "    img_translation = cv2.warpAffine(img, translation_matrix, (num_cols + 70, num_rows + 110))\n",
    "    translation_matrix = np.float32([ [1,0,-30], [0,1,-50] ])\n",
    "    img_translation = cv2.warpAffine(img_translation, translation_matrix, (num_cols + 70 + 30, num_rows + 110 + 50))\n",
    "    cv2.imwrite('trans'+str(n)+'.jpg', img_translation)\n",
    "\n",
    "        \n",
    "    ## Apply log transform.                                                     #adding noise\n",
    "    #c = 1.5*255/(np.log(1 + np.max(f1)))\n",
    "    #log_transformed = c * np.log(0.5 + f1)\n",
    "    ## Specify the data type.\n",
    "    #log_transformed = np.array(log_transformed, dtype = np.uint8)\n",
    "    #cv2.imwrite('noise'+str(n)+'.jpg', log_transformed)\n",
    "    \n",
    "   \n",
    "\n",
    "    def sp_noise(image,prob):\n",
    "        '''\n",
    "        Add salt and pepper noise to image\n",
    "        prob: Probability of the noise\n",
    "        '''\n",
    "        output = np.zeros(image.shape,np.uint8)\n",
    "        thres = 1 - prob \n",
    "        for i in range(image.shape[0]):\n",
    "            for j in range(image.shape[1]):\n",
    "                rdn = random.random()\n",
    "                if rdn < prob:\n",
    "                    output[i][j] = 0\n",
    "                elif rdn > thres:\n",
    "                    output[i][j] = 255\n",
    "                else:\n",
    "                    output[i][j] = image[i][j]\n",
    "        return output\n",
    "\n",
    "    image = cv2.imread('f1.jpg',0) # Only for grayscale image\n",
    "    noise_img = sp_noise(image,0.05)\n",
    "    cv2.imwrite('sp_noise'+str(n)+'.jpg', noise_img)\n",
    "\n",
    "\n",
    "    \n",
    "    data.append(f1)     "
   ]
  },
  {
   "cell_type": "code",
   "execution_count": null,
   "id": "0cef0118",
   "metadata": {},
   "outputs": [],
   "source": []
  },
  {
   "cell_type": "code",
   "execution_count": 3,
   "id": "4d72e3c0",
   "metadata": {},
   "outputs": [],
   "source": [
    "f1 = cv2.imread('anonu')"
   ]
  },
  {
   "cell_type": "code",
   "execution_count": 4,
   "id": "5ed37872",
   "metadata": {},
   "outputs": [],
   "source": [
    "alpha=2.2\n",
    "beta=50"
   ]
  },
  {
   "cell_type": "code",
   "execution_count": 5,
   "id": "bb44fc3a",
   "metadata": {},
   "outputs": [],
   "source": [
    "new_image = cv2.convertScaleAbs(f1, alpha=alpha, beta=beta)"
   ]
  },
  {
   "cell_type": "code",
   "execution_count": 10,
   "id": "68b1f44f",
   "metadata": {},
   "outputs": [
    {
     "ename": "error",
     "evalue": "OpenCV(4.5.3) C:\\Users\\runneradmin\\AppData\\Local\\Temp\\pip-req-build-c2l3r8zm\\opencv\\modules\\imgproc\\src\\color.cpp:182: error: (-215:Assertion failed) !_src.empty() in function 'cv::cvtColor'\n",
     "output_type": "error",
     "traceback": [
      "\u001b[1;31m---------------------------------------------------------------------------\u001b[0m",
      "\u001b[1;31merror\u001b[0m                                     Traceback (most recent call last)",
      "\u001b[1;32m<ipython-input-10-5ac25a6d2d79>\u001b[0m in \u001b[0;36m<module>\u001b[1;34m\u001b[0m\n\u001b[1;32m----> 1\u001b[1;33m \u001b[0mcv2\u001b[0m\u001b[1;33m.\u001b[0m\u001b[0mimshow\u001b[0m\u001b[1;33m(\u001b[0m\u001b[1;34m'new_image'\u001b[0m\u001b[1;33m,\u001b[0m\u001b[0mf1\u001b[0m\u001b[1;33m)\u001b[0m\u001b[1;33m\u001b[0m\u001b[1;33m\u001b[0m\u001b[0m\n\u001b[0m",
      "\u001b[1;31merror\u001b[0m: OpenCV(4.5.3) C:\\Users\\runneradmin\\AppData\\Local\\Temp\\pip-req-build-c2l3r8zm\\opencv\\modules\\imgproc\\src\\color.cpp:182: error: (-215:Assertion failed) !_src.empty() in function 'cv::cvtColor'\n"
     ]
    }
   ],
   "source": [
    "cv2.imshow('new_image',new_image)"
   ]
  },
  {
   "cell_type": "code",
   "execution_count": null,
   "id": "ea293046",
   "metadata": {},
   "outputs": [],
   "source": []
  }
 ],
 "metadata": {
  "kernelspec": {
   "display_name": "Python 3",
   "language": "python",
   "name": "python3"
  },
  "language_info": {
   "codemirror_mode": {
    "name": "ipython",
    "version": 3
   },
   "file_extension": ".py",
   "mimetype": "text/x-python",
   "name": "python",
   "nbconvert_exporter": "python",
   "pygments_lexer": "ipython3",
   "version": "3.7.6"
  }
 },
 "nbformat": 4,
 "nbformat_minor": 5
}
